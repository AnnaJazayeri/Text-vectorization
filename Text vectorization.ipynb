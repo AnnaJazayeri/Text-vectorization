{
 "cells": [
  {
   "cell_type": "markdown",
   "id": "5356ffba",
   "metadata": {},
   "source": [
    "# Text vectorization"
   ]
  },
  {
   "cell_type": "markdown",
   "id": "657abb14",
   "metadata": {},
   "source": [
    "Consider the following corpus of three documents.\n",
    "\n",
    "    d1= “information information data train”\n",
    "    d2 = “computer information cpu computer”\n",
    "    d3 = “computer retrieval information”\n",
    "\n",
    "Use the TF-IDF approach to represent the documents with vectors.\n",
    "Calculate similarities between the documents. Use cosine similarity measure."
   ]
  },
  {
   "cell_type": "code",
   "execution_count": 1,
   "id": "e131fa78",
   "metadata": {},
   "outputs": [
    {
     "name": "stdout",
     "output_type": "stream",
     "text": [
      "TF-IDF Vectors:\n",
      "[[0.         0.         0.54270061 0.64105545 0.         0.54270061]\n",
      " [0.7948031  0.52253528 0.         0.30861775 0.         0.        ]\n",
      " [0.54783215 0.         0.         0.42544054 0.72033345 0.        ]]\n",
      "\n",
      "Cosine Similarities:\n",
      "[[1.         0.19784109 0.27273098]\n",
      " [0.19784109 1.         0.5667172 ]\n",
      " [0.27273098 0.5667172  1.        ]]\n"
     ]
    }
   ],
   "source": [
    "from sklearn.feature_extraction.text import TfidfVectorizer\n",
    "from sklearn.metrics.pairwise import cosine_similarity\n",
    "\n",
    "# Define the documents\n",
    "d1 = \"information information data train\"\n",
    "d2 = \"computer information cpu computer\"\n",
    "d3 = \"computer retrieval information\"\n",
    "\n",
    "# Create a list of documents\n",
    "documents = [d1, d2, d3]\n",
    "\n",
    "# Initialize the TfidfVectorizer\n",
    "tfidf_vectorizer = TfidfVectorizer()\n",
    "\n",
    "# Fit and transform the documents to get TF-IDF vectors\n",
    "tfidf_matrix = tfidf_vectorizer.fit_transform(documents)\n",
    "\n",
    "# Calculate the cosine similarities\n",
    "cosine_similarities = cosine_similarity(tfidf_matrix, tfidf_matrix)\n",
    "\n",
    "# Print the TF-IDF vectors and cosine similarities\n",
    "print(\"TF-IDF Vectors:\")\n",
    "print(tfidf_matrix.toarray())\n",
    "\n",
    "print(\"\\nCosine Similarities:\")\n",
    "print(cosine_similarities)\n"
   ]
  },
  {
   "cell_type": "markdown",
   "id": "c91691aa",
   "metadata": {},
   "source": [
    "Download the attached corpus (corpus5.txt). Each line of the corpus represents one document. Thus, there are 6 documents in this corpus. Write a python program to represent each document with a vector, using the following two approaches: frequency and TF-IDF."
   ]
  },
  {
   "cell_type": "code",
   "execution_count": null,
   "id": "6e0a34b3",
   "metadata": {},
   "outputs": [],
   "source": []
  },
  {
   "cell_type": "code",
   "execution_count": null,
   "id": "b7de53e5",
   "metadata": {},
   "outputs": [],
   "source": []
  },
  {
   "cell_type": "code",
   "execution_count": null,
   "id": "d7622f33",
   "metadata": {},
   "outputs": [],
   "source": []
  },
  {
   "cell_type": "code",
   "execution_count": null,
   "id": "a0a960f9",
   "metadata": {},
   "outputs": [],
   "source": []
  },
  {
   "cell_type": "code",
   "execution_count": null,
   "id": "86da37a1",
   "metadata": {},
   "outputs": [],
   "source": []
  },
  {
   "cell_type": "code",
   "execution_count": null,
   "id": "f961b1b6",
   "metadata": {},
   "outputs": [],
   "source": []
  },
  {
   "cell_type": "code",
   "execution_count": null,
   "id": "599e4ae4",
   "metadata": {},
   "outputs": [],
   "source": []
  },
  {
   "cell_type": "code",
   "execution_count": null,
   "id": "186ff1e0",
   "metadata": {},
   "outputs": [],
   "source": []
  },
  {
   "cell_type": "code",
   "execution_count": null,
   "id": "5454e206",
   "metadata": {},
   "outputs": [],
   "source": []
  },
  {
   "cell_type": "code",
   "execution_count": null,
   "id": "1030ea34",
   "metadata": {},
   "outputs": [],
   "source": []
  },
  {
   "cell_type": "code",
   "execution_count": null,
   "id": "acf64107",
   "metadata": {},
   "outputs": [],
   "source": []
  },
  {
   "cell_type": "code",
   "execution_count": null,
   "id": "f1d3dc3a",
   "metadata": {},
   "outputs": [],
   "source": []
  },
  {
   "cell_type": "code",
   "execution_count": null,
   "id": "2bc0ac95",
   "metadata": {},
   "outputs": [],
   "source": []
  }
 ],
 "metadata": {
  "kernelspec": {
   "display_name": "Python 3 (ipykernel)",
   "language": "python",
   "name": "python3"
  },
  "language_info": {
   "codemirror_mode": {
    "name": "ipython",
    "version": 3
   },
   "file_extension": ".py",
   "mimetype": "text/x-python",
   "name": "python",
   "nbconvert_exporter": "python",
   "pygments_lexer": "ipython3",
   "version": "3.11.5"
  }
 },
 "nbformat": 4,
 "nbformat_minor": 5
}
